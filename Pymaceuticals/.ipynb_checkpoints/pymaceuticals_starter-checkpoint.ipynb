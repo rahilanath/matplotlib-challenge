{
 "cells": [
  {
   "cell_type": "markdown",
   "metadata": {},
   "source": [
    "## Observations and Insights "
   ]
  },
  {
   "cell_type": "markdown",
   "metadata": {},
   "source": []
  },
  {
   "cell_type": "code",
   "execution_count": null,
   "metadata": {},
   "outputs": [],
   "source": []
  },
  {
   "cell_type": "code",
   "execution_count": 1,
   "metadata": {},
   "outputs": [
    {
     "data": {
      "text/html": [
       "<style  type=\"text/css\" >\n",
       "    #T_76df6bb4_cfc6_11ea_81c8_9cb6d0202e2e th {\n",
       "          font-family: -apple-system, BlinkMacSystemFont, \"Segoe UI\", Roboto, \"Noto Sans\", Ubuntu, Cantarell, \"Helvetica Neue\", sans-serif, \"Apple Color Emoji\", \"Segoe UI Emoji\", \"Segoe UI Symbol\", \"Noto Color Emoji\";\n",
       "          font-size: 1.25rem;\n",
       "          border-collapse: collapse;\n",
       "          border-spacing: 0;\n",
       "          color: #2e2e2e;\n",
       "          box-sizing: border-box;\n",
       "          text-align: left;\n",
       "          border: 1px solid #dfdfdf;\n",
       "          padding: 10px 16px;\n",
       "          line-height: 20px;\n",
       "          vertical-align: middle;\n",
       "          background-color: #fafafa;\n",
       "          font-weight: 400;\n",
       "          border-bottom: solid 2px #ccc;\n",
       "    }    #T_76df6bb4_cfc6_11ea_81c8_9cb6d0202e2e td {\n",
       "          font-family: -apple-system, BlinkMacSystemFont, \"Segoe UI\", Roboto, \"Noto Sans\", Ubuntu, Cantarell, \"Helvetica Neue\", sans-serif, \"Apple Color Emoji\", \"Segoe UI Emoji\", \"Segoe UI Symbol\", \"Noto Color Emoji\";\n",
       "          font-size: 1.25rem;\n",
       "          font-weight: 400;\n",
       "          text-align: left;\n",
       "          border-collapse: collapse;\n",
       "          border-spacing: 0;\n",
       "          color: #2e2e2e;\n",
       "          box-sizing: border-box;\n",
       "          border: 1px solid #dfdfdf;\n",
       "          padding: 10px 16px;\n",
       "          line-height: 20px;\n",
       "          vertical-align: middle;\n",
       "          background-color: #ffffff;\n",
       "          border-color: #dfdfdf;\n",
       "    }</style><table id=\"T_76df6bb4_cfc6_11ea_81c8_9cb6d0202e2e\" ><thead>    <tr>        <th class=\"blank level0\" ></th>        <th class=\"col_heading level0 col0\" >Mouse ID</th>        <th class=\"col_heading level0 col1\" >Drug Regimen</th>        <th class=\"col_heading level0 col2\" >Sex</th>        <th class=\"col_heading level0 col3\" >Age_months</th>        <th class=\"col_heading level0 col4\" >Weight (g)</th>        <th class=\"col_heading level0 col5\" >Timepoint</th>        <th class=\"col_heading level0 col6\" >Tumor Volume (mm3)</th>        <th class=\"col_heading level0 col7\" >Metastatic Sites</th>    </tr></thead><tbody>\n",
       "                <tr>\n",
       "                        <th id=\"T_76df6bb4_cfc6_11ea_81c8_9cb6d0202e2elevel0_row0\" class=\"row_heading level0 row0\" >0</th>\n",
       "                        <td id=\"T_76df6bb4_cfc6_11ea_81c8_9cb6d0202e2erow0_col0\" class=\"data row0 col0\" >k403</td>\n",
       "                        <td id=\"T_76df6bb4_cfc6_11ea_81c8_9cb6d0202e2erow0_col1\" class=\"data row0 col1\" >Ramicane</td>\n",
       "                        <td id=\"T_76df6bb4_cfc6_11ea_81c8_9cb6d0202e2erow0_col2\" class=\"data row0 col2\" >Male</td>\n",
       "                        <td id=\"T_76df6bb4_cfc6_11ea_81c8_9cb6d0202e2erow0_col3\" class=\"data row0 col3\" >21</td>\n",
       "                        <td id=\"T_76df6bb4_cfc6_11ea_81c8_9cb6d0202e2erow0_col4\" class=\"data row0 col4\" >16</td>\n",
       "                        <td id=\"T_76df6bb4_cfc6_11ea_81c8_9cb6d0202e2erow0_col5\" class=\"data row0 col5\" >0</td>\n",
       "                        <td id=\"T_76df6bb4_cfc6_11ea_81c8_9cb6d0202e2erow0_col6\" class=\"data row0 col6\" >45.000000</td>\n",
       "                        <td id=\"T_76df6bb4_cfc6_11ea_81c8_9cb6d0202e2erow0_col7\" class=\"data row0 col7\" >0</td>\n",
       "            </tr>\n",
       "            <tr>\n",
       "                        <th id=\"T_76df6bb4_cfc6_11ea_81c8_9cb6d0202e2elevel0_row1\" class=\"row_heading level0 row1\" >1</th>\n",
       "                        <td id=\"T_76df6bb4_cfc6_11ea_81c8_9cb6d0202e2erow1_col0\" class=\"data row1 col0\" >k403</td>\n",
       "                        <td id=\"T_76df6bb4_cfc6_11ea_81c8_9cb6d0202e2erow1_col1\" class=\"data row1 col1\" >Ramicane</td>\n",
       "                        <td id=\"T_76df6bb4_cfc6_11ea_81c8_9cb6d0202e2erow1_col2\" class=\"data row1 col2\" >Male</td>\n",
       "                        <td id=\"T_76df6bb4_cfc6_11ea_81c8_9cb6d0202e2erow1_col3\" class=\"data row1 col3\" >21</td>\n",
       "                        <td id=\"T_76df6bb4_cfc6_11ea_81c8_9cb6d0202e2erow1_col4\" class=\"data row1 col4\" >16</td>\n",
       "                        <td id=\"T_76df6bb4_cfc6_11ea_81c8_9cb6d0202e2erow1_col5\" class=\"data row1 col5\" >5</td>\n",
       "                        <td id=\"T_76df6bb4_cfc6_11ea_81c8_9cb6d0202e2erow1_col6\" class=\"data row1 col6\" >38.825898</td>\n",
       "                        <td id=\"T_76df6bb4_cfc6_11ea_81c8_9cb6d0202e2erow1_col7\" class=\"data row1 col7\" >0</td>\n",
       "            </tr>\n",
       "            <tr>\n",
       "                        <th id=\"T_76df6bb4_cfc6_11ea_81c8_9cb6d0202e2elevel0_row2\" class=\"row_heading level0 row2\" >2</th>\n",
       "                        <td id=\"T_76df6bb4_cfc6_11ea_81c8_9cb6d0202e2erow2_col0\" class=\"data row2 col0\" >k403</td>\n",
       "                        <td id=\"T_76df6bb4_cfc6_11ea_81c8_9cb6d0202e2erow2_col1\" class=\"data row2 col1\" >Ramicane</td>\n",
       "                        <td id=\"T_76df6bb4_cfc6_11ea_81c8_9cb6d0202e2erow2_col2\" class=\"data row2 col2\" >Male</td>\n",
       "                        <td id=\"T_76df6bb4_cfc6_11ea_81c8_9cb6d0202e2erow2_col3\" class=\"data row2 col3\" >21</td>\n",
       "                        <td id=\"T_76df6bb4_cfc6_11ea_81c8_9cb6d0202e2erow2_col4\" class=\"data row2 col4\" >16</td>\n",
       "                        <td id=\"T_76df6bb4_cfc6_11ea_81c8_9cb6d0202e2erow2_col5\" class=\"data row2 col5\" >10</td>\n",
       "                        <td id=\"T_76df6bb4_cfc6_11ea_81c8_9cb6d0202e2erow2_col6\" class=\"data row2 col6\" >35.014271</td>\n",
       "                        <td id=\"T_76df6bb4_cfc6_11ea_81c8_9cb6d0202e2erow2_col7\" class=\"data row2 col7\" >1</td>\n",
       "            </tr>\n",
       "            <tr>\n",
       "                        <th id=\"T_76df6bb4_cfc6_11ea_81c8_9cb6d0202e2elevel0_row3\" class=\"row_heading level0 row3\" >3</th>\n",
       "                        <td id=\"T_76df6bb4_cfc6_11ea_81c8_9cb6d0202e2erow3_col0\" class=\"data row3 col0\" >k403</td>\n",
       "                        <td id=\"T_76df6bb4_cfc6_11ea_81c8_9cb6d0202e2erow3_col1\" class=\"data row3 col1\" >Ramicane</td>\n",
       "                        <td id=\"T_76df6bb4_cfc6_11ea_81c8_9cb6d0202e2erow3_col2\" class=\"data row3 col2\" >Male</td>\n",
       "                        <td id=\"T_76df6bb4_cfc6_11ea_81c8_9cb6d0202e2erow3_col3\" class=\"data row3 col3\" >21</td>\n",
       "                        <td id=\"T_76df6bb4_cfc6_11ea_81c8_9cb6d0202e2erow3_col4\" class=\"data row3 col4\" >16</td>\n",
       "                        <td id=\"T_76df6bb4_cfc6_11ea_81c8_9cb6d0202e2erow3_col5\" class=\"data row3 col5\" >15</td>\n",
       "                        <td id=\"T_76df6bb4_cfc6_11ea_81c8_9cb6d0202e2erow3_col6\" class=\"data row3 col6\" >34.223992</td>\n",
       "                        <td id=\"T_76df6bb4_cfc6_11ea_81c8_9cb6d0202e2erow3_col7\" class=\"data row3 col7\" >1</td>\n",
       "            </tr>\n",
       "            <tr>\n",
       "                        <th id=\"T_76df6bb4_cfc6_11ea_81c8_9cb6d0202e2elevel0_row4\" class=\"row_heading level0 row4\" >4</th>\n",
       "                        <td id=\"T_76df6bb4_cfc6_11ea_81c8_9cb6d0202e2erow4_col0\" class=\"data row4 col0\" >k403</td>\n",
       "                        <td id=\"T_76df6bb4_cfc6_11ea_81c8_9cb6d0202e2erow4_col1\" class=\"data row4 col1\" >Ramicane</td>\n",
       "                        <td id=\"T_76df6bb4_cfc6_11ea_81c8_9cb6d0202e2erow4_col2\" class=\"data row4 col2\" >Male</td>\n",
       "                        <td id=\"T_76df6bb4_cfc6_11ea_81c8_9cb6d0202e2erow4_col3\" class=\"data row4 col3\" >21</td>\n",
       "                        <td id=\"T_76df6bb4_cfc6_11ea_81c8_9cb6d0202e2erow4_col4\" class=\"data row4 col4\" >16</td>\n",
       "                        <td id=\"T_76df6bb4_cfc6_11ea_81c8_9cb6d0202e2erow4_col5\" class=\"data row4 col5\" >20</td>\n",
       "                        <td id=\"T_76df6bb4_cfc6_11ea_81c8_9cb6d0202e2erow4_col6\" class=\"data row4 col6\" >32.997729</td>\n",
       "                        <td id=\"T_76df6bb4_cfc6_11ea_81c8_9cb6d0202e2erow4_col7\" class=\"data row4 col7\" >1</td>\n",
       "            </tr>\n",
       "    </tbody></table>"
      ],
      "text/plain": [
       "<pandas.io.formats.style.Styler at 0x2661e7bdd68>"
      ]
     },
     "execution_count": 1,
     "metadata": {},
     "output_type": "execute_result"
    }
   ],
   "source": [
    "# Dependencies and Setup\n",
    "import matplotlib.pyplot as plt\n",
    "import pandas as pd\n",
    "import scipy.stats as st\n",
    "import numpy as np\n",
    "from cstyle import styles\n",
    "\n",
    "# Study data files\n",
    "mouse_metadata_path = \"data/Mouse_metadata.csv\"\n",
    "study_results_path = \"data/Study_results.csv\"\n",
    "\n",
    "# Read the mouse data and the study results\n",
    "mouse_metadata = pd.read_csv(mouse_metadata_path)\n",
    "study_results = pd.read_csv(study_results_path)\n",
    "\n",
    "# Combine the data into a single dataset\n",
    "mice_data = pd.merge(mouse_metadata, study_results, how='inner', on='Mouse ID')\n",
    "\n",
    "# Display the data table for preview\n",
    "mice_data.head().style.set_table_styles(styles)"
   ]
  },
  {
   "cell_type": "code",
   "execution_count": 2,
   "metadata": {},
   "outputs": [
    {
     "name": "stdout",
     "output_type": "stream",
     "text": [
      "249\n"
     ]
    }
   ],
   "source": [
    "# Checking the number of mice.\n",
    "mice_count = len(mice_data['Mouse ID'].unique())\n",
    "print(mice_count)"
   ]
  },
  {
   "cell_type": "code",
   "execution_count": 3,
   "metadata": {},
   "outputs": [
    {
     "name": "stdout",
     "output_type": "stream",
     "text": [
      "['g989']\n"
     ]
    }
   ],
   "source": [
    "# Getting the duplicate mice by ID number that shows up for Mouse ID and Timepoint. \n",
    "# Create duplicate DataFrame for manipulation\n",
    "mice_data_copy = mice_data\n",
    "\n",
    "# create new dataframe with just the rows with duplicated Mouse ID and Timepoint column values\n",
    "dup_data = mice_data_copy[mice_data_copy.duplicated(subset=['Mouse ID', 'Timepoint'], keep=False)]\n",
    "\n",
    "# create list of unique Mouse ID's that have duplicate Timepoints\n",
    "dup_mice = dup_data['Mouse ID'].unique()\n",
    "print(dup_mice)"
   ]
  },
  {
   "cell_type": "code",
   "execution_count": 4,
   "metadata": {},
   "outputs": [
    {
     "data": {
      "text/html": [
       "<style  type=\"text/css\" >\n",
       "    #T_7a414974_cfc6_11ea_89b6_9cb6d0202e2e th {\n",
       "          font-family: -apple-system, BlinkMacSystemFont, \"Segoe UI\", Roboto, \"Noto Sans\", Ubuntu, Cantarell, \"Helvetica Neue\", sans-serif, \"Apple Color Emoji\", \"Segoe UI Emoji\", \"Segoe UI Symbol\", \"Noto Color Emoji\";\n",
       "          font-size: 1.25rem;\n",
       "          border-collapse: collapse;\n",
       "          border-spacing: 0;\n",
       "          color: #2e2e2e;\n",
       "          box-sizing: border-box;\n",
       "          text-align: left;\n",
       "          border: 1px solid #dfdfdf;\n",
       "          padding: 10px 16px;\n",
       "          line-height: 20px;\n",
       "          vertical-align: middle;\n",
       "          background-color: #fafafa;\n",
       "          font-weight: 400;\n",
       "          border-bottom: solid 2px #ccc;\n",
       "    }    #T_7a414974_cfc6_11ea_89b6_9cb6d0202e2e td {\n",
       "          font-family: -apple-system, BlinkMacSystemFont, \"Segoe UI\", Roboto, \"Noto Sans\", Ubuntu, Cantarell, \"Helvetica Neue\", sans-serif, \"Apple Color Emoji\", \"Segoe UI Emoji\", \"Segoe UI Symbol\", \"Noto Color Emoji\";\n",
       "          font-size: 1.25rem;\n",
       "          font-weight: 400;\n",
       "          text-align: left;\n",
       "          border-collapse: collapse;\n",
       "          border-spacing: 0;\n",
       "          color: #2e2e2e;\n",
       "          box-sizing: border-box;\n",
       "          border: 1px solid #dfdfdf;\n",
       "          padding: 10px 16px;\n",
       "          line-height: 20px;\n",
       "          vertical-align: middle;\n",
       "          background-color: #ffffff;\n",
       "          border-color: #dfdfdf;\n",
       "    }</style><table id=\"T_7a414974_cfc6_11ea_89b6_9cb6d0202e2e\" ><thead>    <tr>        <th class=\"blank level0\" ></th>        <th class=\"col_heading level0 col0\" >Mouse ID</th>        <th class=\"col_heading level0 col1\" >Drug Regimen</th>        <th class=\"col_heading level0 col2\" >Sex</th>        <th class=\"col_heading level0 col3\" >Age_months</th>        <th class=\"col_heading level0 col4\" >Weight (g)</th>        <th class=\"col_heading level0 col5\" >Timepoint</th>        <th class=\"col_heading level0 col6\" >Tumor Volume (mm3)</th>        <th class=\"col_heading level0 col7\" >Metastatic Sites</th>    </tr></thead><tbody>\n",
       "                <tr>\n",
       "                        <th id=\"T_7a414974_cfc6_11ea_89b6_9cb6d0202e2elevel0_row0\" class=\"row_heading level0 row0\" >0</th>\n",
       "                        <td id=\"T_7a414974_cfc6_11ea_89b6_9cb6d0202e2erow0_col0\" class=\"data row0 col0\" >g989</td>\n",
       "                        <td id=\"T_7a414974_cfc6_11ea_89b6_9cb6d0202e2erow0_col1\" class=\"data row0 col1\" >Propriva</td>\n",
       "                        <td id=\"T_7a414974_cfc6_11ea_89b6_9cb6d0202e2erow0_col2\" class=\"data row0 col2\" >Female</td>\n",
       "                        <td id=\"T_7a414974_cfc6_11ea_89b6_9cb6d0202e2erow0_col3\" class=\"data row0 col3\" >21</td>\n",
       "                        <td id=\"T_7a414974_cfc6_11ea_89b6_9cb6d0202e2erow0_col4\" class=\"data row0 col4\" >26</td>\n",
       "                        <td id=\"T_7a414974_cfc6_11ea_89b6_9cb6d0202e2erow0_col5\" class=\"data row0 col5\" >0</td>\n",
       "                        <td id=\"T_7a414974_cfc6_11ea_89b6_9cb6d0202e2erow0_col6\" class=\"data row0 col6\" >45.000000</td>\n",
       "                        <td id=\"T_7a414974_cfc6_11ea_89b6_9cb6d0202e2erow0_col7\" class=\"data row0 col7\" >0</td>\n",
       "            </tr>\n",
       "            <tr>\n",
       "                        <th id=\"T_7a414974_cfc6_11ea_89b6_9cb6d0202e2elevel0_row1\" class=\"row_heading level0 row1\" >1</th>\n",
       "                        <td id=\"T_7a414974_cfc6_11ea_89b6_9cb6d0202e2erow1_col0\" class=\"data row1 col0\" >g989</td>\n",
       "                        <td id=\"T_7a414974_cfc6_11ea_89b6_9cb6d0202e2erow1_col1\" class=\"data row1 col1\" >Propriva</td>\n",
       "                        <td id=\"T_7a414974_cfc6_11ea_89b6_9cb6d0202e2erow1_col2\" class=\"data row1 col2\" >Female</td>\n",
       "                        <td id=\"T_7a414974_cfc6_11ea_89b6_9cb6d0202e2erow1_col3\" class=\"data row1 col3\" >21</td>\n",
       "                        <td id=\"T_7a414974_cfc6_11ea_89b6_9cb6d0202e2erow1_col4\" class=\"data row1 col4\" >26</td>\n",
       "                        <td id=\"T_7a414974_cfc6_11ea_89b6_9cb6d0202e2erow1_col5\" class=\"data row1 col5\" >5</td>\n",
       "                        <td id=\"T_7a414974_cfc6_11ea_89b6_9cb6d0202e2erow1_col6\" class=\"data row1 col6\" >48.786801</td>\n",
       "                        <td id=\"T_7a414974_cfc6_11ea_89b6_9cb6d0202e2erow1_col7\" class=\"data row1 col7\" >0</td>\n",
       "            </tr>\n",
       "            <tr>\n",
       "                        <th id=\"T_7a414974_cfc6_11ea_89b6_9cb6d0202e2elevel0_row2\" class=\"row_heading level0 row2\" >2</th>\n",
       "                        <td id=\"T_7a414974_cfc6_11ea_89b6_9cb6d0202e2erow2_col0\" class=\"data row2 col0\" >g989</td>\n",
       "                        <td id=\"T_7a414974_cfc6_11ea_89b6_9cb6d0202e2erow2_col1\" class=\"data row2 col1\" >Propriva</td>\n",
       "                        <td id=\"T_7a414974_cfc6_11ea_89b6_9cb6d0202e2erow2_col2\" class=\"data row2 col2\" >Female</td>\n",
       "                        <td id=\"T_7a414974_cfc6_11ea_89b6_9cb6d0202e2erow2_col3\" class=\"data row2 col3\" >21</td>\n",
       "                        <td id=\"T_7a414974_cfc6_11ea_89b6_9cb6d0202e2erow2_col4\" class=\"data row2 col4\" >26</td>\n",
       "                        <td id=\"T_7a414974_cfc6_11ea_89b6_9cb6d0202e2erow2_col5\" class=\"data row2 col5\" >5</td>\n",
       "                        <td id=\"T_7a414974_cfc6_11ea_89b6_9cb6d0202e2erow2_col6\" class=\"data row2 col6\" >47.570392</td>\n",
       "                        <td id=\"T_7a414974_cfc6_11ea_89b6_9cb6d0202e2erow2_col7\" class=\"data row2 col7\" >0</td>\n",
       "            </tr>\n",
       "            <tr>\n",
       "                        <th id=\"T_7a414974_cfc6_11ea_89b6_9cb6d0202e2elevel0_row3\" class=\"row_heading level0 row3\" >3</th>\n",
       "                        <td id=\"T_7a414974_cfc6_11ea_89b6_9cb6d0202e2erow3_col0\" class=\"data row3 col0\" >g989</td>\n",
       "                        <td id=\"T_7a414974_cfc6_11ea_89b6_9cb6d0202e2erow3_col1\" class=\"data row3 col1\" >Propriva</td>\n",
       "                        <td id=\"T_7a414974_cfc6_11ea_89b6_9cb6d0202e2erow3_col2\" class=\"data row3 col2\" >Female</td>\n",
       "                        <td id=\"T_7a414974_cfc6_11ea_89b6_9cb6d0202e2erow3_col3\" class=\"data row3 col3\" >21</td>\n",
       "                        <td id=\"T_7a414974_cfc6_11ea_89b6_9cb6d0202e2erow3_col4\" class=\"data row3 col4\" >26</td>\n",
       "                        <td id=\"T_7a414974_cfc6_11ea_89b6_9cb6d0202e2erow3_col5\" class=\"data row3 col5\" >10</td>\n",
       "                        <td id=\"T_7a414974_cfc6_11ea_89b6_9cb6d0202e2erow3_col6\" class=\"data row3 col6\" >51.745156</td>\n",
       "                        <td id=\"T_7a414974_cfc6_11ea_89b6_9cb6d0202e2erow3_col7\" class=\"data row3 col7\" >0</td>\n",
       "            </tr>\n",
       "            <tr>\n",
       "                        <th id=\"T_7a414974_cfc6_11ea_89b6_9cb6d0202e2elevel0_row4\" class=\"row_heading level0 row4\" >4</th>\n",
       "                        <td id=\"T_7a414974_cfc6_11ea_89b6_9cb6d0202e2erow4_col0\" class=\"data row4 col0\" >g989</td>\n",
       "                        <td id=\"T_7a414974_cfc6_11ea_89b6_9cb6d0202e2erow4_col1\" class=\"data row4 col1\" >Propriva</td>\n",
       "                        <td id=\"T_7a414974_cfc6_11ea_89b6_9cb6d0202e2erow4_col2\" class=\"data row4 col2\" >Female</td>\n",
       "                        <td id=\"T_7a414974_cfc6_11ea_89b6_9cb6d0202e2erow4_col3\" class=\"data row4 col3\" >21</td>\n",
       "                        <td id=\"T_7a414974_cfc6_11ea_89b6_9cb6d0202e2erow4_col4\" class=\"data row4 col4\" >26</td>\n",
       "                        <td id=\"T_7a414974_cfc6_11ea_89b6_9cb6d0202e2erow4_col5\" class=\"data row4 col5\" >10</td>\n",
       "                        <td id=\"T_7a414974_cfc6_11ea_89b6_9cb6d0202e2erow4_col6\" class=\"data row4 col6\" >49.880528</td>\n",
       "                        <td id=\"T_7a414974_cfc6_11ea_89b6_9cb6d0202e2erow4_col7\" class=\"data row4 col7\" >0</td>\n",
       "            </tr>\n",
       "    </tbody></table>"
      ],
      "text/plain": [
       "<pandas.io.formats.style.Styler at 0x2661f8c6ba8>"
      ]
     },
     "execution_count": 4,
     "metadata": {},
     "output_type": "execute_result"
    }
   ],
   "source": [
    "# Optional: Get all the data for the duplicate mouse ID.\n",
    "# Create new DataFrame with rows from mice_data_copy with duplicate Mouse ID values\n",
    "dirty_data = mice_data_copy.loc[mice_data_copy['Mouse ID'].isin(dup_mice), :]\n",
    "\n",
    "# As a precaution, remove any duplicate rows from dirty_dirty and reset index\n",
    "unique_dirty_data = dirty_data.drop_duplicates().reset_index(drop=True)\n",
    "unique_dirty_data.head().style.set_table_styles(styles)"
   ]
  },
  {
   "cell_type": "code",
   "execution_count": 5,
   "metadata": {},
   "outputs": [
    {
     "data": {
      "text/html": [
       "<style  type=\"text/css\" >\n",
       "    #T_7b3b05c6_cfc6_11ea_a502_9cb6d0202e2e th {\n",
       "          font-family: -apple-system, BlinkMacSystemFont, \"Segoe UI\", Roboto, \"Noto Sans\", Ubuntu, Cantarell, \"Helvetica Neue\", sans-serif, \"Apple Color Emoji\", \"Segoe UI Emoji\", \"Segoe UI Symbol\", \"Noto Color Emoji\";\n",
       "          font-size: 1.25rem;\n",
       "          border-collapse: collapse;\n",
       "          border-spacing: 0;\n",
       "          color: #2e2e2e;\n",
       "          box-sizing: border-box;\n",
       "          text-align: left;\n",
       "          border: 1px solid #dfdfdf;\n",
       "          padding: 10px 16px;\n",
       "          line-height: 20px;\n",
       "          vertical-align: middle;\n",
       "          background-color: #fafafa;\n",
       "          font-weight: 400;\n",
       "          border-bottom: solid 2px #ccc;\n",
       "    }    #T_7b3b05c6_cfc6_11ea_a502_9cb6d0202e2e td {\n",
       "          font-family: -apple-system, BlinkMacSystemFont, \"Segoe UI\", Roboto, \"Noto Sans\", Ubuntu, Cantarell, \"Helvetica Neue\", sans-serif, \"Apple Color Emoji\", \"Segoe UI Emoji\", \"Segoe UI Symbol\", \"Noto Color Emoji\";\n",
       "          font-size: 1.25rem;\n",
       "          font-weight: 400;\n",
       "          text-align: left;\n",
       "          border-collapse: collapse;\n",
       "          border-spacing: 0;\n",
       "          color: #2e2e2e;\n",
       "          box-sizing: border-box;\n",
       "          border: 1px solid #dfdfdf;\n",
       "          padding: 10px 16px;\n",
       "          line-height: 20px;\n",
       "          vertical-align: middle;\n",
       "          background-color: #ffffff;\n",
       "          border-color: #dfdfdf;\n",
       "    }</style><table id=\"T_7b3b05c6_cfc6_11ea_a502_9cb6d0202e2e\" ><thead>    <tr>        <th class=\"blank level0\" ></th>        <th class=\"col_heading level0 col0\" >Mouse ID</th>        <th class=\"col_heading level0 col1\" >Drug Regimen</th>        <th class=\"col_heading level0 col2\" >Sex</th>        <th class=\"col_heading level0 col3\" >Age_months</th>        <th class=\"col_heading level0 col4\" >Weight (g)</th>        <th class=\"col_heading level0 col5\" >Timepoint</th>        <th class=\"col_heading level0 col6\" >Tumor Volume (mm3)</th>        <th class=\"col_heading level0 col7\" >Metastatic Sites</th>    </tr></thead><tbody>\n",
       "                <tr>\n",
       "                        <th id=\"T_7b3b05c6_cfc6_11ea_a502_9cb6d0202e2elevel0_row0\" class=\"row_heading level0 row0\" >0</th>\n",
       "                        <td id=\"T_7b3b05c6_cfc6_11ea_a502_9cb6d0202e2erow0_col0\" class=\"data row0 col0\" >k403</td>\n",
       "                        <td id=\"T_7b3b05c6_cfc6_11ea_a502_9cb6d0202e2erow0_col1\" class=\"data row0 col1\" >Ramicane</td>\n",
       "                        <td id=\"T_7b3b05c6_cfc6_11ea_a502_9cb6d0202e2erow0_col2\" class=\"data row0 col2\" >Male</td>\n",
       "                        <td id=\"T_7b3b05c6_cfc6_11ea_a502_9cb6d0202e2erow0_col3\" class=\"data row0 col3\" >21</td>\n",
       "                        <td id=\"T_7b3b05c6_cfc6_11ea_a502_9cb6d0202e2erow0_col4\" class=\"data row0 col4\" >16</td>\n",
       "                        <td id=\"T_7b3b05c6_cfc6_11ea_a502_9cb6d0202e2erow0_col5\" class=\"data row0 col5\" >0</td>\n",
       "                        <td id=\"T_7b3b05c6_cfc6_11ea_a502_9cb6d0202e2erow0_col6\" class=\"data row0 col6\" >45.000000</td>\n",
       "                        <td id=\"T_7b3b05c6_cfc6_11ea_a502_9cb6d0202e2erow0_col7\" class=\"data row0 col7\" >0</td>\n",
       "            </tr>\n",
       "            <tr>\n",
       "                        <th id=\"T_7b3b05c6_cfc6_11ea_a502_9cb6d0202e2elevel0_row1\" class=\"row_heading level0 row1\" >1</th>\n",
       "                        <td id=\"T_7b3b05c6_cfc6_11ea_a502_9cb6d0202e2erow1_col0\" class=\"data row1 col0\" >k403</td>\n",
       "                        <td id=\"T_7b3b05c6_cfc6_11ea_a502_9cb6d0202e2erow1_col1\" class=\"data row1 col1\" >Ramicane</td>\n",
       "                        <td id=\"T_7b3b05c6_cfc6_11ea_a502_9cb6d0202e2erow1_col2\" class=\"data row1 col2\" >Male</td>\n",
       "                        <td id=\"T_7b3b05c6_cfc6_11ea_a502_9cb6d0202e2erow1_col3\" class=\"data row1 col3\" >21</td>\n",
       "                        <td id=\"T_7b3b05c6_cfc6_11ea_a502_9cb6d0202e2erow1_col4\" class=\"data row1 col4\" >16</td>\n",
       "                        <td id=\"T_7b3b05c6_cfc6_11ea_a502_9cb6d0202e2erow1_col5\" class=\"data row1 col5\" >5</td>\n",
       "                        <td id=\"T_7b3b05c6_cfc6_11ea_a502_9cb6d0202e2erow1_col6\" class=\"data row1 col6\" >38.825898</td>\n",
       "                        <td id=\"T_7b3b05c6_cfc6_11ea_a502_9cb6d0202e2erow1_col7\" class=\"data row1 col7\" >0</td>\n",
       "            </tr>\n",
       "            <tr>\n",
       "                        <th id=\"T_7b3b05c6_cfc6_11ea_a502_9cb6d0202e2elevel0_row2\" class=\"row_heading level0 row2\" >2</th>\n",
       "                        <td id=\"T_7b3b05c6_cfc6_11ea_a502_9cb6d0202e2erow2_col0\" class=\"data row2 col0\" >k403</td>\n",
       "                        <td id=\"T_7b3b05c6_cfc6_11ea_a502_9cb6d0202e2erow2_col1\" class=\"data row2 col1\" >Ramicane</td>\n",
       "                        <td id=\"T_7b3b05c6_cfc6_11ea_a502_9cb6d0202e2erow2_col2\" class=\"data row2 col2\" >Male</td>\n",
       "                        <td id=\"T_7b3b05c6_cfc6_11ea_a502_9cb6d0202e2erow2_col3\" class=\"data row2 col3\" >21</td>\n",
       "                        <td id=\"T_7b3b05c6_cfc6_11ea_a502_9cb6d0202e2erow2_col4\" class=\"data row2 col4\" >16</td>\n",
       "                        <td id=\"T_7b3b05c6_cfc6_11ea_a502_9cb6d0202e2erow2_col5\" class=\"data row2 col5\" >10</td>\n",
       "                        <td id=\"T_7b3b05c6_cfc6_11ea_a502_9cb6d0202e2erow2_col6\" class=\"data row2 col6\" >35.014271</td>\n",
       "                        <td id=\"T_7b3b05c6_cfc6_11ea_a502_9cb6d0202e2erow2_col7\" class=\"data row2 col7\" >1</td>\n",
       "            </tr>\n",
       "            <tr>\n",
       "                        <th id=\"T_7b3b05c6_cfc6_11ea_a502_9cb6d0202e2elevel0_row3\" class=\"row_heading level0 row3\" >3</th>\n",
       "                        <td id=\"T_7b3b05c6_cfc6_11ea_a502_9cb6d0202e2erow3_col0\" class=\"data row3 col0\" >k403</td>\n",
       "                        <td id=\"T_7b3b05c6_cfc6_11ea_a502_9cb6d0202e2erow3_col1\" class=\"data row3 col1\" >Ramicane</td>\n",
       "                        <td id=\"T_7b3b05c6_cfc6_11ea_a502_9cb6d0202e2erow3_col2\" class=\"data row3 col2\" >Male</td>\n",
       "                        <td id=\"T_7b3b05c6_cfc6_11ea_a502_9cb6d0202e2erow3_col3\" class=\"data row3 col3\" >21</td>\n",
       "                        <td id=\"T_7b3b05c6_cfc6_11ea_a502_9cb6d0202e2erow3_col4\" class=\"data row3 col4\" >16</td>\n",
       "                        <td id=\"T_7b3b05c6_cfc6_11ea_a502_9cb6d0202e2erow3_col5\" class=\"data row3 col5\" >15</td>\n",
       "                        <td id=\"T_7b3b05c6_cfc6_11ea_a502_9cb6d0202e2erow3_col6\" class=\"data row3 col6\" >34.223992</td>\n",
       "                        <td id=\"T_7b3b05c6_cfc6_11ea_a502_9cb6d0202e2erow3_col7\" class=\"data row3 col7\" >1</td>\n",
       "            </tr>\n",
       "            <tr>\n",
       "                        <th id=\"T_7b3b05c6_cfc6_11ea_a502_9cb6d0202e2elevel0_row4\" class=\"row_heading level0 row4\" >4</th>\n",
       "                        <td id=\"T_7b3b05c6_cfc6_11ea_a502_9cb6d0202e2erow4_col0\" class=\"data row4 col0\" >k403</td>\n",
       "                        <td id=\"T_7b3b05c6_cfc6_11ea_a502_9cb6d0202e2erow4_col1\" class=\"data row4 col1\" >Ramicane</td>\n",
       "                        <td id=\"T_7b3b05c6_cfc6_11ea_a502_9cb6d0202e2erow4_col2\" class=\"data row4 col2\" >Male</td>\n",
       "                        <td id=\"T_7b3b05c6_cfc6_11ea_a502_9cb6d0202e2erow4_col3\" class=\"data row4 col3\" >21</td>\n",
       "                        <td id=\"T_7b3b05c6_cfc6_11ea_a502_9cb6d0202e2erow4_col4\" class=\"data row4 col4\" >16</td>\n",
       "                        <td id=\"T_7b3b05c6_cfc6_11ea_a502_9cb6d0202e2erow4_col5\" class=\"data row4 col5\" >20</td>\n",
       "                        <td id=\"T_7b3b05c6_cfc6_11ea_a502_9cb6d0202e2erow4_col6\" class=\"data row4 col6\" >32.997729</td>\n",
       "                        <td id=\"T_7b3b05c6_cfc6_11ea_a502_9cb6d0202e2erow4_col7\" class=\"data row4 col7\" >1</td>\n",
       "            </tr>\n",
       "    </tbody></table>"
      ],
      "text/plain": [
       "<pandas.io.formats.style.Styler at 0x2661adfcf28>"
      ]
     },
     "execution_count": 5,
     "metadata": {},
     "output_type": "execute_result"
    }
   ],
   "source": [
    "# Create a clean DataFrame by dropping the duplicate mouse by its ID.\n",
    "# Use index from locating all duplicate Mouse ID data to clean data and reset index\n",
    "clean_data = mice_data_copy.drop(index = dirty_data.index).reset_index(drop=True)\n",
    "clean_data.head().style.set_table_styles(styles)"
   ]
  },
  {
   "cell_type": "code",
   "execution_count": 6,
   "metadata": {},
   "outputs": [
    {
     "name": "stdout",
     "output_type": "stream",
     "text": [
      "248\n"
     ]
    }
   ],
   "source": [
    "# Checking the number of mice in the clean DataFrame.\n",
    "clean_mice_count = len(clean_data['Mouse ID'].unique())\n",
    "print(clean_mice_count)"
   ]
  },
  {
   "cell_type": "markdown",
   "metadata": {},
   "source": [
    "## Summary Statistics"
   ]
  },
  {
   "cell_type": "code",
   "execution_count": 7,
   "metadata": {},
   "outputs": [
    {
     "data": {
      "text/html": [
       "<style  type=\"text/css\" >\n",
       "    #T_7d3016b6_cfc6_11ea_acc4_9cb6d0202e2e th {\n",
       "          font-family: -apple-system, BlinkMacSystemFont, \"Segoe UI\", Roboto, \"Noto Sans\", Ubuntu, Cantarell, \"Helvetica Neue\", sans-serif, \"Apple Color Emoji\", \"Segoe UI Emoji\", \"Segoe UI Symbol\", \"Noto Color Emoji\";\n",
       "          font-size: 1.25rem;\n",
       "          border-collapse: collapse;\n",
       "          border-spacing: 0;\n",
       "          color: #2e2e2e;\n",
       "          box-sizing: border-box;\n",
       "          text-align: left;\n",
       "          border: 1px solid #dfdfdf;\n",
       "          padding: 10px 16px;\n",
       "          line-height: 20px;\n",
       "          vertical-align: middle;\n",
       "          background-color: #fafafa;\n",
       "          font-weight: 400;\n",
       "          border-bottom: solid 2px #ccc;\n",
       "    }    #T_7d3016b6_cfc6_11ea_acc4_9cb6d0202e2e td {\n",
       "          font-family: -apple-system, BlinkMacSystemFont, \"Segoe UI\", Roboto, \"Noto Sans\", Ubuntu, Cantarell, \"Helvetica Neue\", sans-serif, \"Apple Color Emoji\", \"Segoe UI Emoji\", \"Segoe UI Symbol\", \"Noto Color Emoji\";\n",
       "          font-size: 1.25rem;\n",
       "          font-weight: 400;\n",
       "          text-align: left;\n",
       "          border-collapse: collapse;\n",
       "          border-spacing: 0;\n",
       "          color: #2e2e2e;\n",
       "          box-sizing: border-box;\n",
       "          border: 1px solid #dfdfdf;\n",
       "          padding: 10px 16px;\n",
       "          line-height: 20px;\n",
       "          vertical-align: middle;\n",
       "          background-color: #ffffff;\n",
       "          border-color: #dfdfdf;\n",
       "    }</style><table id=\"T_7d3016b6_cfc6_11ea_acc4_9cb6d0202e2e\" ><thead>    <tr>        <th class=\"blank level0\" ></th>        <th class=\"col_heading level0 col0\" >Drug Regimen</th>        <th class=\"col_heading level0 col1\" >Tumor Vol. Avg</th>        <th class=\"col_heading level0 col2\" >Tumor Vol. Median</th>        <th class=\"col_heading level0 col3\" >Tumor Vol. Variance</th>        <th class=\"col_heading level0 col4\" >Tumor Vol. Std Deviation</th>        <th class=\"col_heading level0 col5\" >Tumor Vol. SEM</th>    </tr></thead><tbody>\n",
       "                <tr>\n",
       "                        <th id=\"T_7d3016b6_cfc6_11ea_acc4_9cb6d0202e2elevel0_row0\" class=\"row_heading level0 row0\" >0</th>\n",
       "                        <td id=\"T_7d3016b6_cfc6_11ea_acc4_9cb6d0202e2erow0_col0\" class=\"data row0 col0\" >Ramicane</td>\n",
       "                        <td id=\"T_7d3016b6_cfc6_11ea_acc4_9cb6d0202e2erow0_col1\" class=\"data row0 col1\" >40.216745</td>\n",
       "                        <td id=\"T_7d3016b6_cfc6_11ea_acc4_9cb6d0202e2erow0_col2\" class=\"data row0 col2\" >40.673236</td>\n",
       "                        <td id=\"T_7d3016b6_cfc6_11ea_acc4_9cb6d0202e2erow0_col3\" class=\"data row0 col3\" >23.383692</td>\n",
       "                        <td id=\"T_7d3016b6_cfc6_11ea_acc4_9cb6d0202e2erow0_col4\" class=\"data row0 col4\" >4.835669</td>\n",
       "                        <td id=\"T_7d3016b6_cfc6_11ea_acc4_9cb6d0202e2erow0_col5\" class=\"data row0 col5\" >0.320955</td>\n",
       "            </tr>\n",
       "            <tr>\n",
       "                        <th id=\"T_7d3016b6_cfc6_11ea_acc4_9cb6d0202e2elevel0_row1\" class=\"row_heading level0 row1\" >1</th>\n",
       "                        <td id=\"T_7d3016b6_cfc6_11ea_acc4_9cb6d0202e2erow1_col0\" class=\"data row1 col0\" >Capomulin</td>\n",
       "                        <td id=\"T_7d3016b6_cfc6_11ea_acc4_9cb6d0202e2erow1_col1\" class=\"data row1 col1\" >40.675741</td>\n",
       "                        <td id=\"T_7d3016b6_cfc6_11ea_acc4_9cb6d0202e2erow1_col2\" class=\"data row1 col2\" >41.557809</td>\n",
       "                        <td id=\"T_7d3016b6_cfc6_11ea_acc4_9cb6d0202e2erow1_col3\" class=\"data row1 col3\" >24.839296</td>\n",
       "                        <td id=\"T_7d3016b6_cfc6_11ea_acc4_9cb6d0202e2erow1_col4\" class=\"data row1 col4\" >4.983904</td>\n",
       "                        <td id=\"T_7d3016b6_cfc6_11ea_acc4_9cb6d0202e2erow1_col5\" class=\"data row1 col5\" >0.329346</td>\n",
       "            </tr>\n",
       "            <tr>\n",
       "                        <th id=\"T_7d3016b6_cfc6_11ea_acc4_9cb6d0202e2elevel0_row2\" class=\"row_heading level0 row2\" >2</th>\n",
       "                        <td id=\"T_7d3016b6_cfc6_11ea_acc4_9cb6d0202e2erow2_col0\" class=\"data row2 col0\" >Infubinol</td>\n",
       "                        <td id=\"T_7d3016b6_cfc6_11ea_acc4_9cb6d0202e2erow2_col1\" class=\"data row2 col1\" >52.884795</td>\n",
       "                        <td id=\"T_7d3016b6_cfc6_11ea_acc4_9cb6d0202e2erow2_col2\" class=\"data row2 col2\" >51.820584</td>\n",
       "                        <td id=\"T_7d3016b6_cfc6_11ea_acc4_9cb6d0202e2erow2_col3\" class=\"data row2 col3\" >42.886388</td>\n",
       "                        <td id=\"T_7d3016b6_cfc6_11ea_acc4_9cb6d0202e2erow2_col4\" class=\"data row2 col4\" >6.548770</td>\n",
       "                        <td id=\"T_7d3016b6_cfc6_11ea_acc4_9cb6d0202e2erow2_col5\" class=\"data row2 col5\" >0.492236</td>\n",
       "            </tr>\n",
       "            <tr>\n",
       "                        <th id=\"T_7d3016b6_cfc6_11ea_acc4_9cb6d0202e2elevel0_row3\" class=\"row_heading level0 row3\" >3</th>\n",
       "                        <td id=\"T_7d3016b6_cfc6_11ea_acc4_9cb6d0202e2erow3_col0\" class=\"data row3 col0\" >Placebo</td>\n",
       "                        <td id=\"T_7d3016b6_cfc6_11ea_acc4_9cb6d0202e2erow3_col1\" class=\"data row3 col1\" >54.033581</td>\n",
       "                        <td id=\"T_7d3016b6_cfc6_11ea_acc4_9cb6d0202e2erow3_col2\" class=\"data row3 col2\" >52.288934</td>\n",
       "                        <td id=\"T_7d3016b6_cfc6_11ea_acc4_9cb6d0202e2erow3_col3\" class=\"data row3 col3\" >60.830138</td>\n",
       "                        <td id=\"T_7d3016b6_cfc6_11ea_acc4_9cb6d0202e2erow3_col4\" class=\"data row3 col4\" >7.799368</td>\n",
       "                        <td id=\"T_7d3016b6_cfc6_11ea_acc4_9cb6d0202e2erow3_col5\" class=\"data row3 col5\" >0.581331</td>\n",
       "            </tr>\n",
       "            <tr>\n",
       "                        <th id=\"T_7d3016b6_cfc6_11ea_acc4_9cb6d0202e2elevel0_row4\" class=\"row_heading level0 row4\" >4</th>\n",
       "                        <td id=\"T_7d3016b6_cfc6_11ea_acc4_9cb6d0202e2erow4_col0\" class=\"data row4 col0\" >Ceftamin</td>\n",
       "                        <td id=\"T_7d3016b6_cfc6_11ea_acc4_9cb6d0202e2erow4_col1\" class=\"data row4 col1\" >52.591172</td>\n",
       "                        <td id=\"T_7d3016b6_cfc6_11ea_acc4_9cb6d0202e2erow4_col2\" class=\"data row4 col2\" >51.776157</td>\n",
       "                        <td id=\"T_7d3016b6_cfc6_11ea_acc4_9cb6d0202e2erow4_col3\" class=\"data row4 col3\" >39.069446</td>\n",
       "                        <td id=\"T_7d3016b6_cfc6_11ea_acc4_9cb6d0202e2erow4_col4\" class=\"data row4 col4\" >6.250556</td>\n",
       "                        <td id=\"T_7d3016b6_cfc6_11ea_acc4_9cb6d0202e2erow4_col5\" class=\"data row4 col5\" >0.469821</td>\n",
       "            </tr>\n",
       "    </tbody></table>"
      ],
      "text/plain": [
       "<pandas.io.formats.style.Styler at 0x2661f90f630>"
      ]
     },
     "execution_count": 7,
     "metadata": {},
     "output_type": "execute_result"
    }
   ],
   "source": [
    "# Generate a summary statistics table of mean, median, variance, standard deviation, and SEM of the tumor volume for each regimen\n",
    "\n",
    "# This method is the most straighforward, creating multiple series and putting them all together at the end.\n",
    "regimen_list = [regimen for regimen in clean_data['Drug Regimen'].unique()]\n",
    "avg_vol = []\n",
    "med_vol = []\n",
    "var_vol = []\n",
    "std_vol = []\n",
    "sem_vol = []\n",
    "\n",
    "for regimen in regimen_list:\n",
    "    avg_vol.append(np.mean(clean_data.loc[clean_data['Drug Regimen'] == regimen]['Tumor Volume (mm3)']))\n",
    "    med_vol.append(np.median(clean_data.loc[clean_data['Drug Regimen'] == regimen]['Tumor Volume (mm3)']))\n",
    "    var_vol.append(np.var(clean_data.loc[clean_data['Drug Regimen'] == regimen]['Tumor Volume (mm3)']))\n",
    "    std_vol.append(np.std(clean_data.loc[clean_data['Drug Regimen'] == regimen]['Tumor Volume (mm3)']))\n",
    "    sem_vol.append(st.sem(clean_data.loc[clean_data['Drug Regimen'] == regimen]['Tumor Volume (mm3)']))\n",
    "\n",
    "regimen_summary_series = pd.DataFrame({'Drug Regimen': regimen_list,\n",
    "                                'Tumor Vol. Avg': avg_vol,\n",
    "                                'Tumor Vol. Median': med_vol,\n",
    "                                'Tumor Vol. Variance': var_vol,\n",
    "                                'Tumor Vol. Std Deviation': std_vol,\n",
    "                                'Tumor Vol. SEM': sem_vol})\n",
    "\n",
    "regimen_summary_series.head().style.set_table_styles(styles)"
   ]
  },
  {
   "cell_type": "code",
   "execution_count": 8,
   "metadata": {},
   "outputs": [
    {
     "data": {
      "text/html": [
       "<style  type=\"text/css\" >\n",
       "    #T_7e4dc14c_cfc6_11ea_89d6_9cb6d0202e2e th {\n",
       "          font-family: -apple-system, BlinkMacSystemFont, \"Segoe UI\", Roboto, \"Noto Sans\", Ubuntu, Cantarell, \"Helvetica Neue\", sans-serif, \"Apple Color Emoji\", \"Segoe UI Emoji\", \"Segoe UI Symbol\", \"Noto Color Emoji\";\n",
       "          font-size: 1.25rem;\n",
       "          border-collapse: collapse;\n",
       "          border-spacing: 0;\n",
       "          color: #2e2e2e;\n",
       "          box-sizing: border-box;\n",
       "          text-align: left;\n",
       "          border: 1px solid #dfdfdf;\n",
       "          padding: 10px 16px;\n",
       "          line-height: 20px;\n",
       "          vertical-align: middle;\n",
       "          background-color: #fafafa;\n",
       "          font-weight: 400;\n",
       "          border-bottom: solid 2px #ccc;\n",
       "    }    #T_7e4dc14c_cfc6_11ea_89d6_9cb6d0202e2e td {\n",
       "          font-family: -apple-system, BlinkMacSystemFont, \"Segoe UI\", Roboto, \"Noto Sans\", Ubuntu, Cantarell, \"Helvetica Neue\", sans-serif, \"Apple Color Emoji\", \"Segoe UI Emoji\", \"Segoe UI Symbol\", \"Noto Color Emoji\";\n",
       "          font-size: 1.25rem;\n",
       "          font-weight: 400;\n",
       "          text-align: left;\n",
       "          border-collapse: collapse;\n",
       "          border-spacing: 0;\n",
       "          color: #2e2e2e;\n",
       "          box-sizing: border-box;\n",
       "          border: 1px solid #dfdfdf;\n",
       "          padding: 10px 16px;\n",
       "          line-height: 20px;\n",
       "          vertical-align: middle;\n",
       "          background-color: #ffffff;\n",
       "          border-color: #dfdfdf;\n",
       "    }</style><table id=\"T_7e4dc14c_cfc6_11ea_89d6_9cb6d0202e2e\" ><thead>    <tr>        <th class=\"blank level0\" ></th>        <th class=\"col_heading level0 col0\" >Tumor Vol. Avg</th>        <th class=\"col_heading level0 col1\" >Tumor Vol. Median</th>        <th class=\"col_heading level0 col2\" >Tumor Vol. Variance</th>        <th class=\"col_heading level0 col3\" >Tumor Vol. Std Deviation</th>        <th class=\"col_heading level0 col4\" >Tumor Vol. SEM</th>    </tr>    <tr>        <th class=\"index_name level0\" >Drug Regimen</th>        <th class=\"blank\" ></th>        <th class=\"blank\" ></th>        <th class=\"blank\" ></th>        <th class=\"blank\" ></th>        <th class=\"blank\" ></th>    </tr></thead><tbody>\n",
       "                <tr>\n",
       "                        <th id=\"T_7e4dc14c_cfc6_11ea_89d6_9cb6d0202e2elevel0_row0\" class=\"row_heading level0 row0\" >Capomulin</th>\n",
       "                        <td id=\"T_7e4dc14c_cfc6_11ea_89d6_9cb6d0202e2erow0_col0\" class=\"data row0 col0\" >40.675741</td>\n",
       "                        <td id=\"T_7e4dc14c_cfc6_11ea_89d6_9cb6d0202e2erow0_col1\" class=\"data row0 col1\" >41.557809</td>\n",
       "                        <td id=\"T_7e4dc14c_cfc6_11ea_89d6_9cb6d0202e2erow0_col2\" class=\"data row0 col2\" >24.947764</td>\n",
       "                        <td id=\"T_7e4dc14c_cfc6_11ea_89d6_9cb6d0202e2erow0_col3\" class=\"data row0 col3\" >4.994774</td>\n",
       "                        <td id=\"T_7e4dc14c_cfc6_11ea_89d6_9cb6d0202e2erow0_col4\" class=\"data row0 col4\" >0.329346</td>\n",
       "            </tr>\n",
       "            <tr>\n",
       "                        <th id=\"T_7e4dc14c_cfc6_11ea_89d6_9cb6d0202e2elevel0_row1\" class=\"row_heading level0 row1\" >Ceftamin</th>\n",
       "                        <td id=\"T_7e4dc14c_cfc6_11ea_89d6_9cb6d0202e2erow1_col0\" class=\"data row1 col0\" >52.591172</td>\n",
       "                        <td id=\"T_7e4dc14c_cfc6_11ea_89d6_9cb6d0202e2erow1_col1\" class=\"data row1 col1\" >51.776157</td>\n",
       "                        <td id=\"T_7e4dc14c_cfc6_11ea_89d6_9cb6d0202e2erow1_col2\" class=\"data row1 col2\" >39.290177</td>\n",
       "                        <td id=\"T_7e4dc14c_cfc6_11ea_89d6_9cb6d0202e2erow1_col3\" class=\"data row1 col3\" >6.268188</td>\n",
       "                        <td id=\"T_7e4dc14c_cfc6_11ea_89d6_9cb6d0202e2erow1_col4\" class=\"data row1 col4\" >0.469821</td>\n",
       "            </tr>\n",
       "            <tr>\n",
       "                        <th id=\"T_7e4dc14c_cfc6_11ea_89d6_9cb6d0202e2elevel0_row2\" class=\"row_heading level0 row2\" >Infubinol</th>\n",
       "                        <td id=\"T_7e4dc14c_cfc6_11ea_89d6_9cb6d0202e2erow2_col0\" class=\"data row2 col0\" >52.884795</td>\n",
       "                        <td id=\"T_7e4dc14c_cfc6_11ea_89d6_9cb6d0202e2erow2_col1\" class=\"data row2 col1\" >51.820584</td>\n",
       "                        <td id=\"T_7e4dc14c_cfc6_11ea_89d6_9cb6d0202e2erow2_col2\" class=\"data row2 col2\" >43.128684</td>\n",
       "                        <td id=\"T_7e4dc14c_cfc6_11ea_89d6_9cb6d0202e2erow2_col3\" class=\"data row2 col3\" >6.567243</td>\n",
       "                        <td id=\"T_7e4dc14c_cfc6_11ea_89d6_9cb6d0202e2erow2_col4\" class=\"data row2 col4\" >0.492236</td>\n",
       "            </tr>\n",
       "            <tr>\n",
       "                        <th id=\"T_7e4dc14c_cfc6_11ea_89d6_9cb6d0202e2elevel0_row3\" class=\"row_heading level0 row3\" >Ketapril</th>\n",
       "                        <td id=\"T_7e4dc14c_cfc6_11ea_89d6_9cb6d0202e2erow3_col0\" class=\"data row3 col0\" >55.235638</td>\n",
       "                        <td id=\"T_7e4dc14c_cfc6_11ea_89d6_9cb6d0202e2erow3_col1\" class=\"data row3 col1\" >53.698743</td>\n",
       "                        <td id=\"T_7e4dc14c_cfc6_11ea_89d6_9cb6d0202e2erow3_col2\" class=\"data row3 col2\" >68.553577</td>\n",
       "                        <td id=\"T_7e4dc14c_cfc6_11ea_89d6_9cb6d0202e2erow3_col3\" class=\"data row3 col3\" >8.279709</td>\n",
       "                        <td id=\"T_7e4dc14c_cfc6_11ea_89d6_9cb6d0202e2erow3_col4\" class=\"data row3 col4\" >0.603860</td>\n",
       "            </tr>\n",
       "            <tr>\n",
       "                        <th id=\"T_7e4dc14c_cfc6_11ea_89d6_9cb6d0202e2elevel0_row4\" class=\"row_heading level0 row4\" >Naftisol</th>\n",
       "                        <td id=\"T_7e4dc14c_cfc6_11ea_89d6_9cb6d0202e2erow4_col0\" class=\"data row4 col0\" >54.331565</td>\n",
       "                        <td id=\"T_7e4dc14c_cfc6_11ea_89d6_9cb6d0202e2erow4_col1\" class=\"data row4 col1\" >52.509285</td>\n",
       "                        <td id=\"T_7e4dc14c_cfc6_11ea_89d6_9cb6d0202e2erow4_col2\" class=\"data row4 col2\" >66.173479</td>\n",
       "                        <td id=\"T_7e4dc14c_cfc6_11ea_89d6_9cb6d0202e2erow4_col3\" class=\"data row4 col3\" >8.134708</td>\n",
       "                        <td id=\"T_7e4dc14c_cfc6_11ea_89d6_9cb6d0202e2erow4_col4\" class=\"data row4 col4\" >0.596466</td>\n",
       "            </tr>\n",
       "    </tbody></table>"
      ],
      "text/plain": [
       "<pandas.io.formats.style.Styler at 0x2661f90ce10>"
      ]
     },
     "execution_count": 8,
     "metadata": {},
     "output_type": "execute_result"
    }
   ],
   "source": [
    "# Generate a summary statistics table of mean, median, variance, standard deviation, and SEM of the tumor volume for each regimen\n",
    "\n",
    "# This method produces everything in a single groupby function\n",
    "tumor_vol = clean_data.groupby(['Drug Regimen'])\n",
    "\n",
    "avg_vol_grp = tumor_vol['Tumor Volume (mm3)'].mean()\n",
    "med_vol_grp = tumor_vol['Tumor Volume (mm3)'].median()\n",
    "var_vol_grp = tumor_vol['Tumor Volume (mm3)'].var()\n",
    "std_vol_grp = tumor_vol['Tumor Volume (mm3)'].std()\n",
    "sem_vol_grp = tumor_vol['Tumor Volume (mm3)'].sem()\n",
    "\n",
    "regimen_summary_grouped = pd.DataFrame({'Tumor Vol. Avg': avg_vol_grp,\n",
    "                                'Tumor Vol. Median': med_vol_grp,\n",
    "                                'Tumor Vol. Variance': var_vol_grp,\n",
    "                                'Tumor Vol. Std Deviation': std_vol_grp,\n",
    "                                'Tumor Vol. SEM': sem_vol_grp})\n",
    "\n",
    "regimen_summary_grouped.head().style.set_table_styles(styles)"
   ]
  },
  {
   "cell_type": "markdown",
   "metadata": {},
   "source": [
    "## Bar and Pie Charts"
   ]
  },
  {
   "cell_type": "code",
   "execution_count": 118,
   "metadata": {
    "scrolled": false
   },
   "outputs": [
    {
     "data": {
      "text/plain": [
       "<matplotlib.legend.Legend at 0x2662139d198>"
      ]
     },
     "execution_count": 118,
     "metadata": {},
     "output_type": "execute_result"
    },
    {
     "data": {
      "image/png": "[encoded data removed]",
      "text/plain": [
       "<Figure size 432x288 with 1 Axes>"
      ]
     },
     "metadata": {
      "needs_background": "light"
     },
     "output_type": "display_data"
    }
   ],
   "source": [
    "# Generate a bar plot showing the total number of mice for each treatment throughout the course of the study using pandas.\n",
    "mice_over_time = clean_data.groupby(['Timepoint'])['Drug Regimen'].value_counts().unstack('Drug Regimen')\n",
    "bar_plot_df = mice_over_time.plot(kind='bar', stacked=True, rot=1)\n",
    "\n",
    "bar_plot_df.set_title('Number of Mice over Time')\n",
    "bar_plot_df.set_xlabel('Timepoint')\n",
    "bar_plot_df.set_ylabel('Number of Mice')\n",
    "\n",
    "# box = bar_plot_df.get_position()\n",
    "# bar_plot_df.set_position([box.x0, box.y0, box.width*0.85, box.height])\n",
    "bar_plot_df.legend(loc='center left',bbox_to_anchor=(1,0.5))"
   ]
  },
  {
   "cell_type": "code",
   "execution_count": null,
   "metadata": {},
   "outputs": [],
   "source": [
    "# Generate a bar plot showing the total number of mice for each treatment throughout the course of the study using pyplot.\n"
   ]
  },
  {
   "cell_type": "code",
   "execution_count": null,
   "metadata": {},
   "outputs": [],
   "source": []
  },
  {
   "cell_type": "code",
   "execution_count": 116,
   "metadata": {},
   "outputs": [
    {
     "data": {
      "text/plain": [
       "<matplotlib.legend.Legend at 0x266225610f0>"
      ]
     },
     "execution_count": 116,
     "metadata": {},
     "output_type": "execute_result"
    },
    {
     "data": {
      "image/png": "[encoded data removed]",
      "text/plain": [
       "<Figure size 432x288 with 1 Axes>"
      ]
     },
     "metadata": {},
     "output_type": "display_data"
    }
   ],
   "source": [
    "# Generate a pie plot showing the distribution of female versus male mice using pandas\n",
    "mice_sex = clean_data['Sex'].unique()\n",
    "# male_mice = clean_data.loc[clean_data['Sex'] == 'Male'].nunique()\n",
    "# female_mice = clean_data.loc[clean_data['Sex'] == 'Female'].nunique()\n",
    "\n",
    "mice_sex_df = pd.DataFrame({'Gender Count': [male_mice['Mouse ID'], female_mice['Mouse ID']]},\n",
    "                             index=mice_sex)\n",
    "\n",
    "colors = ['lightblue', 'pink']\n",
    "explode = (0.05,0)\n",
    "\n",
    "mice_pie_df = mice_sex_df.plot.pie(y='Gender Count', explode=explode, colors=colors, \n",
    "                                   autopct=\"%1.1f%%\", startangle=45, shadow=True, label='')\n",
    "\n",
    "plt.title('Gender Count')\n",
    "plt.axis('equal')\n",
    "plt.legend(loc='lower right',bbox_to_anchor=(1.15,0.5))"
   ]
  },
  {
   "cell_type": "code",
   "execution_count": 105,
   "metadata": {},
   "outputs": [
    {
     "data": {
      "text/plain": [
       "<matplotlib.legend.Legend at 0x26620b06550>"
      ]
     },
     "execution_count": 105,
     "metadata": {},
     "output_type": "execute_result"
    },
    {
     "data": {
      "image/png": "[encoded data removed]",
      "text/plain": [
       "<Figure size 432x288 with 1 Axes>"
      ]
     },
     "metadata": {},
     "output_type": "display_data"
    }
   ],
   "source": [
    "# Generate a pie plot showing the distribution of female versus male mice using pyplot\n",
    "labels = mice_sex\n",
    "sizes = [male_mice['Mouse ID'], female_mice['Mouse ID']]\n",
    "\n",
    "mice_sex_plt = plt.pie(sizes, explode=explode, labels=labels, colors=colors,\n",
    "                                  autopct=\"%1.1f%%\", startangle=45, shadow=True)\n",
    "\n",
    "plt.title('Gender Count')\n",
    "plt.axis('equal')\n",
    "plt.legend(loc='lower right',bbox_to_anchor=(1.15,0.5))"
   ]
  },
  {
   "cell_type": "markdown",
   "metadata": {},
   "source": [
    "## Quartiles, Outliers and Boxplots"
   ]
  },
  {
   "cell_type": "code",
   "execution_count": null,
   "metadata": {},
   "outputs": [],
   "source": [
    "# Calculate the final tumor volume of each mouse across four of the treatment regimens:  \n",
    "# Capomulin, Ramicane, Infubinol, and Ceftamin\n",
    "\n",
    "# Start by getting the last (greatest) timepoint for each mouse\n",
    "\n",
    "\n",
    "# Merge this group df with the original dataframe to get the tumor volume at the last timepoint\n"
   ]
  },
  {
   "cell_type": "code",
   "execution_count": null,
   "metadata": {},
   "outputs": [],
   "source": [
    "# Put treatments into a list for for loop (and later for plot labels)\n",
    "\n",
    "\n",
    "# Create empty list to fill with tumor vol data (for plotting)\n",
    "\n",
    "\n",
    "# Calculate the IQR and quantitatively determine if there are any potential outliers. \n",
    "\n",
    "    \n",
    "    # Locate the rows which contain mice on each drug and get the tumor volumes\n",
    "    \n",
    "    \n",
    "    # add subset \n",
    "    \n",
    "    \n",
    "    # Determine outliers using upper and lower bounds\n",
    "    "
   ]
  },
  {
   "cell_type": "code",
   "execution_count": null,
   "metadata": {},
   "outputs": [],
   "source": [
    "# Generate a box plot of the final tumor volume of each mouse across four regimens of interest\n"
   ]
  },
  {
   "cell_type": "markdown",
   "metadata": {},
   "source": [
    "## Line and Scatter Plots"
   ]
  },
  {
   "cell_type": "code",
   "execution_count": null,
   "metadata": {},
   "outputs": [],
   "source": [
    "# Generate a line plot of time point versus tumor volume for a mouse treated with Capomulin\n"
   ]
  },
  {
   "cell_type": "code",
   "execution_count": null,
   "metadata": {},
   "outputs": [],
   "source": [
    "# Generate a scatter plot of mouse weight versus average tumor volume for the Capomulin regimen\n"
   ]
  },
  {
   "cell_type": "markdown",
   "metadata": {},
   "source": [
    "## Correlation and Regression"
   ]
  },
  {
   "cell_type": "code",
   "execution_count": null,
   "metadata": {},
   "outputs": [],
   "source": [
    "# Calculate the correlation coefficient and linear regression model \n",
    "# for mouse weight and average tumor volume for the Capomulin regimen\n"
   ]
  },
  {
   "cell_type": "code",
   "execution_count": null,
   "metadata": {},
   "outputs": [],
   "source": []
  }
 ],
 "metadata": {
  "anaconda-cloud": {},
  "kernelspec": {
   "display_name": "Python 3",
   "language": "python",
   "name": "python3"
  },
  "language_info": {
   "codemirror_mode": {
    "name": "ipython",
    "version": 3
   },
   "file_extension": ".py",
   "mimetype": "text/x-python",
   "name": "python",
   "nbconvert_exporter": "python",
   "pygments_lexer": "ipython3",
   "version": "3.6.10"
  }
 },
 "nbformat": 4,
 "nbformat_minor": 2
}
